{
 "cells": [
  {
   "cell_type": "markdown",
   "id": "4f18719b",
   "metadata": {},
   "source": [
    "## Part 4\n",
    "Kass Doran\n",
    "\n",
    "9/12/23"
   ]
  },
  {
   "cell_type": "markdown",
   "id": "8870008d",
   "metadata": {},
   "source": [
    "Questions to answer:\n",
    "    \n",
    "    1. Does the MPAA rating of a movie (G/PG/PG-13/R) affect how much revenue the movie generates?\n",
    "    2. Do some movie genres earn more revenue than others?\n",
    "    3. Do movies that are over 2.5 hours long earn more revenue than movies that are 1.5 hours long (or less)?"
   ]
  },
  {
   "cell_type": "markdown",
   "id": "0d4a6c25",
   "metadata": {},
   "source": [
    "### 1. Extract additional data "
   ]
  },
  {
   "cell_type": "code",
   "execution_count": 1,
   "id": "eabfc830",
   "metadata": {},
   "outputs": [
    {
     "data": {
      "text/plain": [
       "['title_ratings_final.csv.gz',\n",
       " 'title_basics_final.csv.gz',\n",
       " 'title.basics_real.tsv.gz',\n",
       " 'title.akas_real.csv',\n",
       " 'tmdb_api_results_2000.json',\n",
       " 'final_tmdb_data_2000.csv.gz',\n",
       " 'tmdb_api_results_2001.json',\n",
       " 'title_akas_final.csv.gz',\n",
       " 'final_tmdb_data_2001.csv.gz',\n",
       " '.ipynb_checkpoints',\n",
       " 'tmdb_results_combined.csv.gz',\n",
       " 'title.akas_real.tsv.gz',\n",
       " 'title.ratings_real.tsv.gz']"
      ]
     },
     "execution_count": 1,
     "metadata": {},
     "output_type": "execute_result"
    }
   ],
   "source": [
    "import os, time,json\n",
    "from tqdm.notebook import tqdm_notebook\n",
    "import tmdbsimple as tmdb \n",
    "FOLDER = \"Data/\"\n",
    "os.makedirs(FOLDER, exist_ok=True)\n",
    "os.listdir(FOLDER)"
   ]
  },
  {
   "cell_type": "code",
   "execution_count": 2,
   "id": "0ab29286",
   "metadata": {},
   "outputs": [
    {
     "data": {
      "text/plain": [
       "dict_keys(['api-key'])"
      ]
     },
     "execution_count": 2,
     "metadata": {},
     "output_type": "execute_result"
    }
   ],
   "source": [
    "with open('/Users/kass/secret/tmbd_api.json','r') as f:\n",
    "    login = json.load(f)\n",
    "## Display the keys of the loaded dict\n",
    "login.keys()"
   ]
  },
  {
   "cell_type": "code",
   "execution_count": 3,
   "id": "f508896b",
   "metadata": {},
   "outputs": [],
   "source": [
    "tmdb.API_KEY = login['api-key']"
   ]
  },
  {
   "cell_type": "code",
   "execution_count": 4,
   "id": "a701c805",
   "metadata": {},
   "outputs": [],
   "source": [
    "def get_movie_with_rating(movie_id):\n",
    "    \"\"\"Adapted from source = https://github.com/celiao/tmdbsimple\"\"\"\n",
    "    # Get the movie object for the current id\n",
    "    movie = tmdb.Movies(movie_id)\n",
    "    \n",
    "    # Save the .info and .release dictionaries\n",
    "    info = movie.info()\n",
    "    \n",
    "    releases = movie.releases()\n",
    "    # Loop through countries in releases\n",
    "    for c in releases['countries']:\n",
    "        # if the country abbreviation==US\n",
    "        if c['iso_3166_1'] == 'US':\n",
    "            ## save a \"certification key\" in info with the certification\n",
    "            info['certification'] = c['certification']\n",
    "    \n",
    "    return info"
   ]
  },
  {
   "cell_type": "code",
   "execution_count": 5,
   "id": "99d5aef7",
   "metadata": {},
   "outputs": [],
   "source": [
    "def write_json(new_data, filename): \n",
    "    \"\"\"Appends a list of records (new_data) to a json file (filename). \n",
    "    Adapted from: https://www.geeksforgeeks.org/append-to-json-file-using-python/\"\"\"  \n",
    "    \n",
    "    with open(filename,'r+') as file:\n",
    "        # First we load existing data into a dict.\n",
    "        file_data = json.load(file)\n",
    "        ## Choose extend or append\n",
    "        if (type(new_data) == list) & (type(file_data) == list):\n",
    "            file_data.extend(new_data)\n",
    "        else:\n",
    "             file_data.append(new_data)\n",
    "        # Sets file's current position at offset.\n",
    "        file.seek(0)\n",
    "        # convert back to json.\n",
    "        json.dump(file_data, file)"
   ]
  },
  {
   "cell_type": "code",
   "execution_count": 6,
   "id": "2993e183",
   "metadata": {},
   "outputs": [
    {
     "data": {
      "text/html": [
       "<div>\n",
       "<style scoped>\n",
       "    .dataframe tbody tr th:only-of-type {\n",
       "        vertical-align: middle;\n",
       "    }\n",
       "\n",
       "    .dataframe tbody tr th {\n",
       "        vertical-align: top;\n",
       "    }\n",
       "\n",
       "    .dataframe thead th {\n",
       "        text-align: right;\n",
       "    }\n",
       "</style>\n",
       "<table border=\"1\" class=\"dataframe\">\n",
       "  <thead>\n",
       "    <tr style=\"text-align: right;\">\n",
       "      <th></th>\n",
       "      <th>tconst</th>\n",
       "      <th>titleType</th>\n",
       "      <th>primaryTitle</th>\n",
       "      <th>originalTitle</th>\n",
       "      <th>isAdult</th>\n",
       "      <th>startYear</th>\n",
       "      <th>endYear</th>\n",
       "      <th>runtimeMinutes</th>\n",
       "      <th>genres</th>\n",
       "    </tr>\n",
       "  </thead>\n",
       "  <tbody>\n",
       "    <tr>\n",
       "      <th>0</th>\n",
       "      <td>tt0035423</td>\n",
       "      <td>movie</td>\n",
       "      <td>Kate &amp; Leopold</td>\n",
       "      <td>Kate &amp; Leopold</td>\n",
       "      <td>0</td>\n",
       "      <td>2001.0</td>\n",
       "      <td>NaN</td>\n",
       "      <td>118</td>\n",
       "      <td>Comedy,Fantasy,Romance</td>\n",
       "    </tr>\n",
       "    <tr>\n",
       "      <th>1</th>\n",
       "      <td>tt0062336</td>\n",
       "      <td>movie</td>\n",
       "      <td>The Tango of the Widower and Its Distorting Mi...</td>\n",
       "      <td>El tango del viudo y su espejo deformante</td>\n",
       "      <td>0</td>\n",
       "      <td>2020.0</td>\n",
       "      <td>NaN</td>\n",
       "      <td>70</td>\n",
       "      <td>Drama</td>\n",
       "    </tr>\n",
       "    <tr>\n",
       "      <th>2</th>\n",
       "      <td>tt0068865</td>\n",
       "      <td>movie</td>\n",
       "      <td>Lives of Performers</td>\n",
       "      <td>Lives of Performers</td>\n",
       "      <td>0</td>\n",
       "      <td>2016.0</td>\n",
       "      <td>NaN</td>\n",
       "      <td>90</td>\n",
       "      <td>Drama</td>\n",
       "    </tr>\n",
       "    <tr>\n",
       "      <th>3</th>\n",
       "      <td>tt0069049</td>\n",
       "      <td>movie</td>\n",
       "      <td>The Other Side of the Wind</td>\n",
       "      <td>The Other Side of the Wind</td>\n",
       "      <td>0</td>\n",
       "      <td>2018.0</td>\n",
       "      <td>NaN</td>\n",
       "      <td>122</td>\n",
       "      <td>Drama</td>\n",
       "    </tr>\n",
       "    <tr>\n",
       "      <th>4</th>\n",
       "      <td>tt0088751</td>\n",
       "      <td>movie</td>\n",
       "      <td>The Naked Monster</td>\n",
       "      <td>The Naked Monster</td>\n",
       "      <td>0</td>\n",
       "      <td>2005.0</td>\n",
       "      <td>NaN</td>\n",
       "      <td>100</td>\n",
       "      <td>Comedy,Horror,Sci-Fi</td>\n",
       "    </tr>\n",
       "  </tbody>\n",
       "</table>\n",
       "</div>"
      ],
      "text/plain": [
       "      tconst titleType                                       primaryTitle  \\\n",
       "0  tt0035423     movie                                     Kate & Leopold   \n",
       "1  tt0062336     movie  The Tango of the Widower and Its Distorting Mi...   \n",
       "2  tt0068865     movie                                Lives of Performers   \n",
       "3  tt0069049     movie                         The Other Side of the Wind   \n",
       "4  tt0088751     movie                                  The Naked Monster   \n",
       "\n",
       "                               originalTitle  isAdult  startYear  endYear  \\\n",
       "0                             Kate & Leopold        0     2001.0      NaN   \n",
       "1  El tango del viudo y su espejo deformante        0     2020.0      NaN   \n",
       "2                        Lives of Performers        0     2016.0      NaN   \n",
       "3                 The Other Side of the Wind        0     2018.0      NaN   \n",
       "4                          The Naked Monster        0     2005.0      NaN   \n",
       "\n",
       "   runtimeMinutes                  genres  \n",
       "0             118  Comedy,Fantasy,Romance  \n",
       "1              70                   Drama  \n",
       "2              90                   Drama  \n",
       "3             122                   Drama  \n",
       "4             100    Comedy,Horror,Sci-Fi  "
      ]
     },
     "execution_count": 6,
     "metadata": {},
     "output_type": "execute_result"
    }
   ],
   "source": [
    "import pandas as pd\n",
    "# Load in the dataframe from part 1\n",
    "basics = pd.read_csv(\"Data/title_basics_final.csv.gz\", low_memory=False)\n",
    "basics.head()"
   ]
  },
  {
   "cell_type": "code",
   "execution_count": 7,
   "id": "b55fb712",
   "metadata": {},
   "outputs": [],
   "source": [
    "#years we want to explore\n",
    "YEARS_TO_GET = [2010,2011,2012,2013,2014,2015,2017,2018,2019,2020]"
   ]
  },
  {
   "cell_type": "code",
   "execution_count": 8,
   "id": "3eb9b145",
   "metadata": {},
   "outputs": [],
   "source": [
    "# place to store errors\n",
    "errors = [ ]"
   ]
  },
  {
   "cell_type": "code",
   "execution_count": null,
   "id": "e057c2e2",
   "metadata": {},
   "outputs": [
    {
     "data": {
      "application/vnd.jupyter.widget-view+json": {
       "model_id": "3451060616db44a5825dbda91801e05f",
       "version_major": 2,
       "version_minor": 0
      },
      "text/plain": [
       "YEARS:   0%|          | 0/10 [00:00<?, ?it/s]"
      ]
     },
     "metadata": {},
     "output_type": "display_data"
    },
    {
     "data": {
      "application/vnd.jupyter.widget-view+json": {
       "model_id": "b9ba43aa14974bb08cc80e5f72a1bf0d",
       "version_major": 2,
       "version_minor": 0
      },
      "text/plain": [
       "Movies from 2010:   0%|          | 0/3863 [00:00<?, ?it/s]"
      ]
     },
     "metadata": {},
     "output_type": "display_data"
    },
    {
     "data": {
      "application/vnd.jupyter.widget-view+json": {
       "model_id": "c8726d7a4b744198a79da3658f55485b",
       "version_major": 2,
       "version_minor": 0
      },
      "text/plain": [
       "Movies from 2011:   0%|          | 0/4224 [00:00<?, ?it/s]"
      ]
     },
     "metadata": {},
     "output_type": "display_data"
    },
    {
     "data": {
      "application/vnd.jupyter.widget-view+json": {
       "model_id": "a55995daa73942fc9479a45762faa8ba",
       "version_major": 2,
       "version_minor": 0
      },
      "text/plain": [
       "Movies from 2012:   0%|          | 0/4521 [00:00<?, ?it/s]"
      ]
     },
     "metadata": {},
     "output_type": "display_data"
    },
    {
     "data": {
      "application/vnd.jupyter.widget-view+json": {
       "model_id": "baf0295876464a3f874d1441340464f4",
       "version_major": 2,
       "version_minor": 0
      },
      "text/plain": [
       "Movies from 2013:   0%|          | 0/4717 [00:00<?, ?it/s]"
      ]
     },
     "metadata": {},
     "output_type": "display_data"
    },
    {
     "data": {
      "application/vnd.jupyter.widget-view+json": {
       "model_id": "4348a4200a294f3d9997c865d8794080",
       "version_major": 2,
       "version_minor": 0
      },
      "text/plain": [
       "Movies from 2014:   0%|          | 0/4914 [00:00<?, ?it/s]"
      ]
     },
     "metadata": {},
     "output_type": "display_data"
    },
    {
     "data": {
      "application/vnd.jupyter.widget-view+json": {
       "model_id": "2fab9b7c11514be48355716d700b02da",
       "version_major": 2,
       "version_minor": 0
      },
      "text/plain": [
       "Movies from 2015:   0%|          | 0/5057 [00:00<?, ?it/s]"
      ]
     },
     "metadata": {},
     "output_type": "display_data"
    },
    {
     "data": {
      "application/vnd.jupyter.widget-view+json": {
       "model_id": "61e0339d19da4262b59ad08186072dc3",
       "version_major": 2,
       "version_minor": 0
      },
      "text/plain": [
       "Movies from 2017:   0%|          | 0/5639 [00:00<?, ?it/s]"
      ]
     },
     "metadata": {},
     "output_type": "display_data"
    },
    {
     "data": {
      "application/vnd.jupyter.widget-view+json": {
       "model_id": "5bc58c3cd0474442b97481d6c806f38f",
       "version_major": 2,
       "version_minor": 0
      },
      "text/plain": [
       "Movies from 2018:   0%|          | 0/5784 [00:00<?, ?it/s]"
      ]
     },
     "metadata": {},
     "output_type": "display_data"
    },
    {
     "data": {
      "application/vnd.jupyter.widget-view+json": {
       "model_id": "fab388ede3ea4b6597a793cc38a1671d",
       "version_major": 2,
       "version_minor": 0
      },
      "text/plain": [
       "Movies from 2019:   0%|          | 0/5874 [00:00<?, ?it/s]"
      ]
     },
     "metadata": {},
     "output_type": "display_data"
    }
   ],
   "source": [
    "# Start of OUTER loop\n",
    "for YEAR in tqdm_notebook(YEARS_TO_GET, desc='YEARS', position=0):\n",
    "    #Defining the JSON file to store results for year\n",
    "    JSON_FILE = f'{FOLDER}tmdb_api_results_{YEAR}.json'\n",
    "    # Check if file exists\n",
    "    file_exists = os.path.isfile(JSON_FILE)\n",
    "\n",
    "    # If it does not exist: create it\n",
    "    if file_exists == False:\n",
    "    # save an empty dict with just \"imdb_id\" to the new json file.\n",
    "        with open(JSON_FILE,'w') as f:\n",
    "            json.dump([{'imdb_id':0}],f)\n",
    "\n",
    "    #Saving new year as the current df\n",
    "    df = basics.loc[ basics['startYear']==YEAR].copy()\n",
    "    # saving movie ids to list\n",
    "    movie_ids = df['tconst'].copy()\n",
    "\n",
    "    # Load existing data from json into a dataframe called \"previous_df\"\n",
    "    previous_df = pd.read_json(JSON_FILE)\n",
    "\n",
    "    # filter out any ids that are already in the JSON_FILE\n",
    "    movie_ids_to_get = movie_ids[~movie_ids.isin(previous_df['imdb_id'])]\n",
    "\n",
    "    #Get index and movie id from list\n",
    "    # INNER Loop\n",
    "    for movie_id in tqdm_notebook(movie_ids_to_get,\n",
    "                                  desc=f'Movies from {YEAR}',\n",
    "                                  position=1,\n",
    "                                  leave=True):\n",
    "        try:\n",
    "            # Retrieve then data for the movie id\n",
    "            temp = get_movie_with_rating(movie_id)  \n",
    "            # Append/extend results to existing file using a pre-made function\n",
    "            write_json(temp,JSON_FILE)\n",
    "            # Short 20 ms sleep to prevent overwhelming server\n",
    "            time.sleep(0.02)\n",
    "            \n",
    "        except Exception as e:\n",
    "            errors.append([movie_id, e])\n",
    "\n",
    "\n",
    "    final_year_df = pd.read_json(JSON_FILE)\n",
    "    final_year_df.to_csv(f\"{FOLDER}final_tmdb_data_{YEAR}.csv.gz\",compression='gzip', index=False)"
   ]
  },
  {
   "cell_type": "markdown",
   "id": "95cb3cd7",
   "metadata": {},
   "source": [
    "### Combine Data frames"
   ]
  },
  {
   "cell_type": "code",
   "execution_count": null,
   "id": "8377091e",
   "metadata": {},
   "outputs": [],
   "source": [
    "##Load in data sets\n",
    "#TMDB_2010 movies\n",
    "df_2010 = pd.read_csv('Data/final_tmdb_data_2010.csv.gz')\n",
    "df_2010.head()"
   ]
  },
  {
   "cell_type": "code",
   "execution_count": null,
   "id": "3e7eec18",
   "metadata": {},
   "outputs": [],
   "source": [
    "#TMDB_2011 movies\n",
    "df_2011 = pd.read_csv('Data/final_tmdb_data_2011.csv.gz')\n",
    "df_2011.head()"
   ]
  },
  {
   "cell_type": "code",
   "execution_count": null,
   "id": "12c1d78c",
   "metadata": {},
   "outputs": [],
   "source": [
    "#TMDB_2012 movies\n",
    "df_2012 = pd.read_csv('Data/final_tmdb_data_2012.csv.gz')\n",
    "df_2012.head()"
   ]
  },
  {
   "cell_type": "code",
   "execution_count": null,
   "id": "5ce699c2",
   "metadata": {},
   "outputs": [],
   "source": [
    "#TMDB_2013 movies\n",
    "df_2013 = pd.read_csv('Data/final_tmdb_data_2013.csv.gz')\n",
    "df_2013.head()"
   ]
  },
  {
   "cell_type": "code",
   "execution_count": null,
   "id": "a40b9e44",
   "metadata": {},
   "outputs": [],
   "source": [
    "#TMDB_2014 movies\n",
    "df_2014 = pd.read_csv('Data/final_tmdb_data_2014.csv.gz')\n",
    "df_2014.head()"
   ]
  },
  {
   "cell_type": "code",
   "execution_count": null,
   "id": "04f4e2fb",
   "metadata": {},
   "outputs": [],
   "source": [
    "#TMDB_2015 movies\n",
    "df_2015 = pd.read_csv('Data/final_tmdb_data_2015.csv.gz')\n",
    "df_2015.head()"
   ]
  },
  {
   "cell_type": "code",
   "execution_count": null,
   "id": "0ef36831",
   "metadata": {},
   "outputs": [],
   "source": [
    "#TMDB_2016 movies\n",
    "df_2016 = pd.read_csv('Data/final_tmdb_data_2016.csv.gz')\n",
    "df_2016.head()"
   ]
  },
  {
   "cell_type": "code",
   "execution_count": null,
   "id": "265cc4aa",
   "metadata": {},
   "outputs": [],
   "source": [
    "#TMDB_2017 movies\n",
    "df_2017 = pd.read_csv('Data/final_tmdb_data_2017.csv.gz')\n",
    "df_2017.head()"
   ]
  },
  {
   "cell_type": "code",
   "execution_count": null,
   "id": "30ff5b19",
   "metadata": {},
   "outputs": [],
   "source": [
    "#TMDB_2018 movies\n",
    "df_2018 = pd.read_csv('Data/final_tmdb_data_2018.csv.gz')\n",
    "df_2018.head()"
   ]
  },
  {
   "cell_type": "code",
   "execution_count": null,
   "id": "8b7ad25e",
   "metadata": {},
   "outputs": [],
   "source": [
    "#TMDB_2019 movies\n",
    "df_2019 = pd.read_csv('Data/final_tmdb_data_2019.csv.gz')\n",
    "df_2019.head()"
   ]
  },
  {
   "cell_type": "code",
   "execution_count": null,
   "id": "a42160bb",
   "metadata": {},
   "outputs": [],
   "source": [
    "#TMDB_2020 movies\n",
    "df_2020 = pd.read_csv('Data/final_tmdb_data_2020.csv.gz')\n",
    "df_2020.head()"
   ]
  },
  {
   "cell_type": "code",
   "execution_count": null,
   "id": "205024e4",
   "metadata": {},
   "outputs": [],
   "source": [
    "#Concatenate TMDB files into one dataframe\n",
    "df = pd.concat((df_2010, df_2011,df_2012, df_2013, df_2014, df_2015, df_2016, df_2017, df_2018, df_2019, df_2020))\n",
    "df.info()"
   ]
  },
  {
   "cell_type": "code",
   "execution_count": null,
   "id": "3a0dc415",
   "metadata": {},
   "outputs": [],
   "source": [
    "#import libraries\n",
    "import pandas as pd\n",
    "import numpy as np\n",
    "import matplotlib.pyplot as plt\n",
    "import seaborn as sns\n",
    "import scipy.stats as stats\n",
    "import scipy.stats as stats"
   ]
  },
  {
   "cell_type": "markdown",
   "id": "9d9d802c",
   "metadata": {},
   "source": [
    "###  1. Does the MPAA rating of a movie (G/PG/PG-13/R) affect how much revenue the movie generates?\n",
    "\n",
    "    - ANOVA\n",
    "    \n",
    "    Ho: There is no difference in revenue between ratings\n",
    "    H1: There is a difference in revenue between ratings"
   ]
  },
  {
   "cell_type": "code",
   "execution_count": null,
   "id": "9a623938",
   "metadata": {},
   "outputs": [],
   "source": [
    "## Create groups dictionary. \n",
    "groups = {}\n",
    "## Loop through all unique categories\n",
    "for i in df['certification'].unique():\n",
    "    ## Get series for group and rename\n",
    "    data = df.loc[df['genres']==i,'revenue'].copy()\n",
    "    \n",
    "    # save into the dictionary\n",
    "    groups[i] = data\n",
    "groups.keys()"
   ]
  },
  {
   "cell_type": "code",
   "execution_count": null,
   "id": "fa755af3",
   "metadata": {},
   "outputs": [],
   "source": [
    "## Running normal test on each group and confirming there are >20 in each group\n",
    "norm_results = {}\n",
    "for i, data in groups.items():\n",
    "    stat, p = stats.normaltest(data)\n",
    "    ## save the p val, test statistic, and the size of the group\n",
    "    norm_results[i] = {'n': len(data),\n",
    "                             'p':p,\n",
    "                             'test stat':stat,}\n",
    "## convert to a dataframe\n",
    "norm_results_df = pd.DataFrame(norm_results).T\n",
    "norm_results_df"
   ]
  },
  {
   "cell_type": "code",
   "execution_count": null,
   "id": "b909c648",
   "metadata": {},
   "outputs": [],
   "source": [
    "### checking sig with pandas \n",
    "norm_results_df['sig'] = norm_results_df['p'] < .05 \n",
    "norm_results_df"
   ]
  },
  {
   "cell_type": "code",
   "execution_count": null,
   "id": "4e36b14a",
   "metadata": {},
   "outputs": [],
   "source": [
    "# Testing Assumption of Equal Variance with the * operator \n",
    "stats.levene(*groups.values())"
   ]
  },
  {
   "cell_type": "code",
   "execution_count": null,
   "id": "8595a9e8",
   "metadata": {},
   "outputs": [],
   "source": [
    "from statsmodels.stats.multicomp import pairwise_tukeyhsd\n",
    "## save the values as kg_lost and the labels to the Diet\n",
    "values = df['revenue']\n",
    "labels = df['certification']"
   ]
  },
  {
   "cell_type": "code",
   "execution_count": null,
   "id": "74b7d582",
   "metadata": {},
   "outputs": [],
   "source": [
    "## perform tukey's multiple comparison test and display the summary\n",
    "tukeys_results = pairwise_tukeyhsd(values,labels)\n",
    "tukeys_results.summary()"
   ]
  },
  {
   "cell_type": "code",
   "execution_count": null,
   "id": "3bbc83d9",
   "metadata": {},
   "outputs": [],
   "source": [
    "ax = sns.countplot(data=df, x='revenue',hue='generes',)\n",
    "ax.set_title(\"Revenure by Genre\");"
   ]
  },
  {
   "cell_type": "markdown",
   "id": "038217a3",
   "metadata": {},
   "source": [
    "### 2. Do some genres earn more revenue than others?\n",
    "    - Chi-Square\n",
    "    \n",
    "       \n",
    "    Ho: There is no difference in revenue between genres\n",
    "    H1: There is a difference in revenue between genres"
   ]
  },
  {
   "cell_type": "code",
   "execution_count": null,
   "id": "49a3ee67",
   "metadata": {},
   "outputs": [],
   "source": [
    "# calculate the contingency table with pd.cross-tab\n",
    "table = pd.crosstab(df['genres'], df['revenue'])\n",
    "table"
   ]
  },
  {
   "cell_type": "code",
   "execution_count": null,
   "id": "eb184227",
   "metadata": {},
   "outputs": [],
   "source": [
    "# Run the Test and Save the Output\n",
    "result = stats.chi2_contingency(table)\n",
    "chi2, p, deg_free, expected_vals = result #this labels the results"
   ]
  },
  {
   "cell_type": "code",
   "execution_count": null,
   "id": "332fa9e7",
   "metadata": {},
   "outputs": [],
   "source": [
    "# What was our p-value?\n",
    "print(p)"
   ]
  },
  {
   "cell_type": "code",
   "execution_count": null,
   "id": "18ad687c",
   "metadata": {},
   "outputs": [],
   "source": [
    "ax = sns.countplot(data=df, x='revenue',hue='generes',)\n",
    "ax.set_title(\"Revenure by Genre\");"
   ]
  },
  {
   "cell_type": "markdown",
   "id": "b60fde77",
   "metadata": {},
   "source": [
    "  ### 3. Do movies that are over 2.5 hours long earn more revenue than movies that are 1.5 hours long (or less)?\n",
    "      - T-test\n",
    "      \n",
    "         \n",
    "    Ho: There is no difference in revenue between movies that are 2.5hours long and movies that are 1.5 hours long and under\n",
    "    H1: There is a difference in revenue between movies that are 2.5hours long and movies that are 1.5 hours long and under"
   ]
  },
  {
   "cell_type": "code",
   "execution_count": null,
   "id": "fcdc1c09",
   "metadata": {},
   "outputs": [],
   "source": [
    "#split into two groups\n",
    "# Filtering out those with and without super strength\n",
    "twohalf_df = df.loc[df['runtimeMinutes'] > 150].copy()\n",
    "under1half_df = df.loc[df['runtimeMinutes'] < 90].copy()"
   ]
  },
  {
   "cell_type": "code",
   "execution_count": null,
   "id": "507149a8",
   "metadata": {},
   "outputs": [],
   "source": [
    "# define feature of interest\n",
    "twohalf = strength_df['runtimeMinutes']\n",
    "under1half = no_strength_df['runtimeMinutes']"
   ]
  },
  {
   "cell_type": "code",
   "execution_count": null,
   "id": "bf0e26f3",
   "metadata": {},
   "outputs": [],
   "source": [
    "#remove outliers for twohalf\n",
    "# Check for outliers in weight for strength group\n",
    "zscores= stats.zscore(twohalf)\n",
    "outliers = abs(zscores)>3\n",
    "print(np.sum(outliers))\n",
    "\n",
    "# remove outliers from twohalf group\n",
    "twohalf= twohalf_df[(np.abs(stats.zscore(twohalf)) < 3)]"
   ]
  },
  {
   "cell_type": "code",
   "execution_count": null,
   "id": "3aab5cac",
   "metadata": {},
   "outputs": [],
   "source": [
    "#remove outliers for under1half\n",
    "# Check for outliers in weight for strength group\n",
    "zscores= stats.zscore(under1half)\n",
    "outliers = abs(zscores)>3\n",
    "print(np.sum(outliers))\n",
    "\n",
    "# remove outliers from under1half group\n",
    "under1half = twohalf[(np.abs(stats.zscore(under1half)) < 3)]"
   ]
  },
  {
   "cell_type": "code",
   "execution_count": null,
   "id": "37d3f85d",
   "metadata": {},
   "outputs": [],
   "source": [
    "# test the twohalf group for normality\n",
    "result_twohalf = stats.normaltest(twohalf)\n",
    "result_twohalf"
   ]
  },
  {
   "cell_type": "code",
   "execution_count": null,
   "id": "45aab604",
   "metadata": {},
   "outputs": [],
   "source": [
    "# test the twohalf group for normality\n",
    "result_under1half = stats.normaltest(under1half)\n",
    "result_under1half"
   ]
  },
  {
   "cell_type": "code",
   "execution_count": null,
   "id": "3f2e268b",
   "metadata": {},
   "outputs": [],
   "source": [
    "# Test for equal variance\n",
    "result = stats.levene(under1half, twohalf)\n",
    "result"
   ]
  },
  {
   "cell_type": "code",
   "execution_count": null,
   "id": "9ea97d27",
   "metadata": {},
   "outputs": [],
   "source": [
    "# Independent t-test with equal_var set to False\n",
    "result = stats.ttest_ind(under1half, twohalf, equal_var = False)\n",
    "result"
   ]
  },
  {
   "cell_type": "code",
   "execution_count": null,
   "id": "d2bcaed5",
   "metadata": {},
   "outputs": [],
   "source": [
    "ax = sns.countplot(data=df, x='runtimeMinutes',hue='generes',)\n",
    "ax.set_title(\"Revenure by Genre\");"
   ]
  }
 ],
 "metadata": {
  "kernelspec": {
   "display_name": "Python (dojo-env)",
   "language": "python",
   "name": "dojo-env"
  },
  "language_info": {
   "codemirror_mode": {
    "name": "ipython",
    "version": 3
   },
   "file_extension": ".py",
   "mimetype": "text/x-python",
   "name": "python",
   "nbconvert_exporter": "python",
   "pygments_lexer": "ipython3",
   "version": "3.9.15"
  },
  "toc": {
   "base_numbering": 1,
   "nav_menu": {},
   "number_sections": true,
   "sideBar": true,
   "skip_h1_title": false,
   "title_cell": "Table of Contents",
   "title_sidebar": "Contents",
   "toc_cell": false,
   "toc_position": {},
   "toc_section_display": true,
   "toc_window_display": false
  }
 },
 "nbformat": 4,
 "nbformat_minor": 5
}
