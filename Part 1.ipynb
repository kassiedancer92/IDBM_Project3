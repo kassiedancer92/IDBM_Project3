{
 "cells": [
  {
   "cell_type": "markdown",
   "id": "f8b8b973",
   "metadata": {},
   "source": []
  },
  {
   "cell_type": "code",
   "execution_count": 67,
   "id": "79685bfe",
   "metadata": {},
   "outputs": [],
   "source": [
    "#import libraries\n",
    "import pandas as pd\n",
    "import numpy as np"
   ]
  },
  {
   "cell_type": "code",
   "execution_count": 68,
   "id": "9fb24917",
   "metadata": {},
   "outputs": [
    {
     "name": "stdout",
     "output_type": "stream",
     "text": [
      "<class 'pandas.core.frame.DataFrame'>\n",
      "RangeIndex: 10100795 entries, 0 to 10100794\n",
      "Data columns (total 9 columns):\n",
      " #   Column          Dtype \n",
      "---  ------          ----- \n",
      " 0   tconst          object\n",
      " 1   titleType       object\n",
      " 2   primaryTitle    object\n",
      " 3   originalTitle   object\n",
      " 4   isAdult         object\n",
      " 5   startYear       object\n",
      " 6   endYear         object\n",
      " 7   runtimeMinutes  object\n",
      " 8   genres          object\n",
      "dtypes: object(9)\n",
      "memory usage: 693.6+ MB\n"
     ]
    }
   ],
   "source": [
    "# import basics dataset and convert to cvs\n",
    "basics_url=\"https://datasets.imdbws.com/title.basics.tsv.gz\"\n",
    "basics = pd.read_csv(basics_url, sep='\\t', low_memory=False)\n",
    "basics.info()"
   ]
  },
  {
   "cell_type": "code",
   "execution_count": 69,
   "id": "f18fd893",
   "metadata": {},
   "outputs": [
    {
     "name": "stdout",
     "output_type": "stream",
     "text": [
      "<class 'pandas.core.frame.DataFrame'>\n",
      "RangeIndex: 36951101 entries, 0 to 36951100\n",
      "Data columns (total 8 columns):\n",
      " #   Column           Dtype \n",
      "---  ------           ----- \n",
      " 0   titleId          object\n",
      " 1   ordering         int64 \n",
      " 2   title            object\n",
      " 3   region           object\n",
      " 4   language         object\n",
      " 5   types            object\n",
      " 6   attributes       object\n",
      " 7   isOriginalTitle  object\n",
      "dtypes: int64(1), object(7)\n",
      "memory usage: 2.2+ GB\n"
     ]
    }
   ],
   "source": [
    "# import akas dataset\n",
    "akas_url = \"/Users/kass/Downloads/title-akas-us-only.csv\"\n",
    "akas.info()"
   ]
  },
  {
   "cell_type": "code",
   "execution_count": 70,
   "id": "ab0e5dda",
   "metadata": {},
   "outputs": [
    {
     "name": "stdout",
     "output_type": "stream",
     "text": [
      "<class 'pandas.core.frame.DataFrame'>\n",
      "RangeIndex: 1340671 entries, 0 to 1340670\n",
      "Data columns (total 3 columns):\n",
      " #   Column         Non-Null Count    Dtype  \n",
      "---  ------         --------------    -----  \n",
      " 0   tconst         1340671 non-null  object \n",
      " 1   averageRating  1340671 non-null  float64\n",
      " 2   numVotes       1340671 non-null  int64  \n",
      "dtypes: float64(1), int64(1), object(1)\n",
      "memory usage: 30.7+ MB\n"
     ]
    }
   ],
   "source": [
    "# import rating dataset and convert to cvs\n",
    "rating_url = \"https://datasets.imdbws.com/title.ratings.tsv.gz\"\n",
    "rating = pd.read_csv(rating_url, sep='\\t', low_memory=False)\n",
    "rating.info()"
   ]
  },
  {
   "cell_type": "code",
   "execution_count": 71,
   "id": "2062024e",
   "metadata": {},
   "outputs": [],
   "source": [
    "#change all \\\\N to np.nan\n",
    "basics = basics.replace({'\\\\N':np.nan})\n",
    "akas = akas.replace({'\\\\N':np.nan})\n",
    "rating = rating.replace({'\\\\N':np.nan})"
   ]
  },
  {
   "cell_type": "markdown",
   "id": "2717398f",
   "metadata": {},
   "source": [
    "1. Include only movies that were released in the United States. This was already done when we imported our data "
   ]
  },
  {
   "cell_type": "code",
   "execution_count": 72,
   "id": "96675f33",
   "metadata": {},
   "outputs": [
    {
     "data": {
      "text/plain": [
       "0            True\n",
       "1            True\n",
       "2            True\n",
       "3            True\n",
       "4            True\n",
       "            ...  \n",
       "10100790     True\n",
       "10100791     True\n",
       "10100792     True\n",
       "10100793     True\n",
       "10100794    False\n",
       "Name: tconst, Length: 10100795, dtype: bool"
      ]
     },
     "execution_count": 72,
     "metadata": {},
     "output_type": "execute_result"
    }
   ],
   "source": [
    "# Filter the basics table down to only include the US by using the filter akas dataframe\n",
    "keepers =basics['tconst'].isin(akas['titleId'])\n",
    "keepers"
   ]
  },
  {
   "cell_type": "code",
   "execution_count": null,
   "id": "3969adc7",
   "metadata": {},
   "outputs": [],
   "source": [
    "basics = basics[keepers]\n",
    "basics"
   ]
  },
  {
   "cell_type": "markdown",
   "id": "48bdd54b",
   "metadata": {},
   "source": [
    "2. Include only movies that were released 2000 - 2021 (include 2000 and 2021)"
   ]
  },
  {
   "cell_type": "code",
   "execution_count": null,
   "id": "50cb5794",
   "metadata": {},
   "outputs": [],
   "source": [
    "# coerce all to numeric to be able to filter out the years by numbers\n",
    "basics['startYear']= pd.to_numeric(basics['startYear'], errors= 'coerce')"
   ]
  },
  {
   "cell_type": "code",
   "execution_count": null,
   "id": "983ea524",
   "metadata": {},
   "outputs": [],
   "source": [
    "# keep anything greater than or equal to 2000\n",
    "basics['startYear'] = basics['startYear'] >= 2000"
   ]
  },
  {
   "cell_type": "code",
   "execution_count": null,
   "id": "32addf18",
   "metadata": {},
   "outputs": [],
   "source": [
    "# Keep anything less than or equal to 2021\n",
    "basics['startYear'] = basics['startYear'] <= 2021"
   ]
  },
  {
   "cell_type": "markdown",
   "id": "5a15f03e",
   "metadata": {},
   "source": [
    "3. Include only full-length movies (titleType = \"movie\").\n"
   ]
  },
  {
   "cell_type": "code",
   "execution_count": null,
   "id": "81451215",
   "metadata": {},
   "outputs": [],
   "source": [
    "basics = basics.loc[basics['titleType']== \"movie\"]"
   ]
  },
  {
   "cell_type": "markdown",
   "id": "a2bd3b30",
   "metadata": {},
   "source": [
    "4. Exclude any movie with missing values for genre or runtime"
   ]
  },
  {
   "cell_type": "code",
   "execution_count": null,
   "id": "1f20ee53",
   "metadata": {},
   "outputs": [],
   "source": [
    "basics = basics.dropna(subset = ['runtimeMinutes', 'genres'])"
   ]
  },
  {
   "cell_type": "markdown",
   "id": "87df1535",
   "metadata": {},
   "source": [
    "5. Include only fictional movies (not from the Documentary genre)\n"
   ]
  },
  {
   "cell_type": "code",
   "execution_count": null,
   "id": "3e8569d7",
   "metadata": {},
   "outputs": [],
   "source": [
    "# Exclude movies that are included in the documentary category.\n",
    "is_documentary = basics['genres'].str.contains('Documentary',case=False)\n",
    "basics = basics[~is_documentary]"
   ]
  },
  {
   "cell_type": "code",
   "execution_count": null,
   "id": "2b467b54",
   "metadata": {},
   "outputs": [],
   "source": [
    "# save all new dfs\n",
    "basics.to_csv(\"Data/title_basics.csv.gz\",compression='gzip',index=False)\n",
    "akas.to_csv(\"Data/title_akas.csv.gz\",compression='gzip',index=False)\n",
    "ratings.to_csv(\"Data/title_rating.csv.gz\",compression='gzip',index=False)"
   ]
  }
 ],
 "metadata": {
  "kernelspec": {
   "display_name": "Python (dojo-env)",
   "language": "python",
   "name": "dojo-env"
  },
  "language_info": {
   "codemirror_mode": {
    "name": "ipython",
    "version": 3
   },
   "file_extension": ".py",
   "mimetype": "text/x-python",
   "name": "python",
   "nbconvert_exporter": "python",
   "pygments_lexer": "ipython3",
   "version": "3.9.15"
  },
  "toc": {
   "base_numbering": 1,
   "nav_menu": {},
   "number_sections": true,
   "sideBar": true,
   "skip_h1_title": false,
   "title_cell": "Table of Contents",
   "title_sidebar": "Contents",
   "toc_cell": false,
   "toc_position": {},
   "toc_section_display": true,
   "toc_window_display": false
  }
 },
 "nbformat": 4,
 "nbformat_minor": 5
}
