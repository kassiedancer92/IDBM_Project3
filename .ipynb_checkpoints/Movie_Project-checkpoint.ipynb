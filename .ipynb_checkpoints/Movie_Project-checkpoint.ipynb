{
 "cells": [
  {
   "cell_type": "markdown",
   "id": "c419388f",
   "metadata": {},
   "source": [
    "#### Import Dataset"
   ]
  },
  {
   "cell_type": "code",
   "execution_count": 66,
   "id": "79685bfe",
   "metadata": {},
   "outputs": [],
   "source": [
    "#import libraries\n",
    "import pandas as pd\n",
    "import numpy as np"
   ]
  },
  {
   "cell_type": "code",
   "execution_count": 67,
   "id": "9fb24917",
   "metadata": {},
   "outputs": [
    {
     "name": "stdout",
     "output_type": "stream",
     "text": [
      "<class 'pandas.core.frame.DataFrame'>\n",
      "RangeIndex: 10122745 entries, 0 to 10122744\n",
      "Data columns (total 9 columns):\n",
      " #   Column          Dtype \n",
      "---  ------          ----- \n",
      " 0   tconst          object\n",
      " 1   titleType       object\n",
      " 2   primaryTitle    object\n",
      " 3   originalTitle   object\n",
      " 4   isAdult         object\n",
      " 5   startYear       object\n",
      " 6   endYear         object\n",
      " 7   runtimeMinutes  object\n",
      " 8   genres          object\n",
      "dtypes: object(9)\n",
      "memory usage: 695.1+ MB\n"
     ]
    }
   ],
   "source": [
    "# import basics dataset and convert to cvs\n",
    "basics_url=\"https://datasets.imdbws.com/title.basics.tsv.gz\"\n",
    "basics = pd.read_csv(basics_url, sep='\\t', low_memory=False)\n",
    "basics.info()"
   ]
  },
  {
   "cell_type": "code",
   "execution_count": null,
   "id": "a002d6be",
   "metadata": {},
   "outputs": [],
   "source": [
    "# import rating dataset and convert to cvs\n",
    "akas_url = \"https://datasets.imdbws.com/title.akas.tsv.gz\"\n",
    "akas = pd.read_csv(akas_url, sep='\\t', low_memory=False)\n",
    "akas.info()"
   ]
  },
  {
   "cell_type": "code",
   "execution_count": null,
   "id": "4b9a844c",
   "metadata": {},
   "outputs": [],
   "source": [
    "# import rating dataset and convert to cvs\n",
    "rating_url = \"https://datasets.imdbws.com/title.ratings.tsv.gz\"\n",
    "rating = pd.read_csv(rating_url, sep='\\t', low_memory=False)\n",
    "rating.info()"
   ]
  },
  {
   "cell_type": "code",
   "execution_count": null,
   "id": "66c45964",
   "metadata": {},
   "outputs": [],
   "source": [
    "#change all \\\\N to np.nan\n",
    "basics = basics.replace({'\\\\N':np.nan})\n",
    "akas = akas.replace({'\\\\N':np.nan})\n",
    "rating = rating.replace({'\\\\N':np.nan})"
   ]
  },
  {
   "cell_type": "markdown",
   "id": "8a8325f4",
   "metadata": {},
   "source": [
    "### Basics\n",
    "- Keep only US movies\n",
    "- Replace \"\\N\" with np.nan\n",
    "- Eliminate movies that are null for runtimeMinutes\n",
    "- Eliminate movies that are null for genre\n",
    "- Keep only titleType==Movie\n",
    "- Convert the startYear column to float data type.\n",
    "- Filter the dataframe using startYear. Keep years between 2000-2021 (Including 2000 and 2021)\n",
    "- Eliminate movies that include \"Documentary\" in the genre"
   ]
  },
  {
   "cell_type": "markdown",
   "id": "60d2d538",
   "metadata": {},
   "source": [
    "### US only movies"
   ]
  },
  {
   "cell_type": "code",
   "execution_count": 6,
   "id": "07e845cc",
   "metadata": {},
   "outputs": [
    {
     "data": {
      "text/plain": [
       "0            True\n",
       "1            True\n",
       "2            True\n",
       "3            True\n",
       "4            True\n",
       "            ...  \n",
       "10118043     True\n",
       "10118044     True\n",
       "10118045     True\n",
       "10118046     True\n",
       "10118047    False\n",
       "Name: tconst, Length: 10118048, dtype: bool"
      ]
     },
     "execution_count": 6,
     "metadata": {},
     "output_type": "execute_result"
    }
   ],
   "source": [
    "\n",
    "# Filter the basics table down to only include the US by using the filter akas dataframe\n",
    "keepers =basics['tconst'].isin(akas['titleId'])\n",
    "keepers"
   ]
  },
  {
   "cell_type": "code",
   "execution_count": 62,
   "id": "75e40499",
   "metadata": {},
   "outputs": [
    {
     "name": "stderr",
     "output_type": "stream",
     "text": [
      "/var/folders/n6/m7hlgmqs36l_cdkqm0vdj6qh0000gn/T/ipykernel_32216/230934373.py:1: UserWarning: Boolean Series key will be reindexed to match DataFrame index.\n",
      "  basics = basics[keepers]\n"
     ]
    },
    {
     "name": "stdout",
     "output_type": "stream",
     "text": [
      "<class 'pandas.core.frame.DataFrame'>\n",
      "Int64Index: 291250 entries, 0 to 292725\n",
      "Data columns (total 9 columns):\n",
      " #   Column          Non-Null Count   Dtype  \n",
      "---  ------          --------------   -----  \n",
      " 0   tconst          291250 non-null  object \n",
      " 1   titleType       291250 non-null  object \n",
      " 2   primaryTitle    291250 non-null  object \n",
      " 3   originalTitle   291250 non-null  object \n",
      " 4   isAdult         291250 non-null  int64  \n",
      " 5   startYear       291250 non-null  bool   \n",
      " 6   endYear         0 non-null       float64\n",
      " 7   runtimeMinutes  291250 non-null  int64  \n",
      " 8   genres          291250 non-null  object \n",
      "dtypes: bool(1), float64(1), int64(2), object(5)\n",
      "memory usage: 20.3+ MB\n"
     ]
    }
   ],
   "source": [
    "#implament filter\n",
    "basics = basics[keepers]\n",
    "#verify changes\n",
    "basics.info()"
   ]
  },
  {
   "cell_type": "markdown",
   "id": "49d406ca",
   "metadata": {},
   "source": [
    "2. Include only movies that were released 2000 - 2021 (include 2000 and 2021)"
   ]
  },
  {
   "cell_type": "code",
   "execution_count": 8,
   "id": "c80160a6",
   "metadata": {},
   "outputs": [],
   "source": [
    "# coerce all to numeric to be able to filter out the years by numbers\n",
    "basics['startYear']= pd.to_numeric(basics['startYear'], errors= 'coerce')"
   ]
  },
  {
   "cell_type": "code",
   "execution_count": 9,
   "id": "20ad9b3d",
   "metadata": {},
   "outputs": [],
   "source": [
    "# keep anything greater than or equal to 2000\n",
    "basics['startYear'] = basics['startYear'] >= 2000"
   ]
  },
  {
   "cell_type": "code",
   "execution_count": 10,
   "id": "13ef6c1d",
   "metadata": {},
   "outputs": [],
   "source": [
    "# Keep anything less than or equal to 2021\n",
    "basics['startYear'] = basics['startYear'] <= 2021"
   ]
  },
  {
   "cell_type": "code",
   "execution_count": null,
   "id": "b4f29a0a",
   "metadata": {},
   "outputs": [],
   "source": []
  },
  {
   "cell_type": "code",
   "execution_count": null,
   "id": "bc73362d",
   "metadata": {},
   "outputs": [],
   "source": []
  },
  {
   "cell_type": "code",
   "execution_count": null,
   "id": "545d29bf",
   "metadata": {},
   "outputs": [],
   "source": []
  },
  {
   "cell_type": "markdown",
   "id": "6638a966",
   "metadata": {},
   "source": [
    "3. Include only full-length movies (titleType = \"movie\").\n"
   ]
  },
  {
   "cell_type": "code",
   "execution_count": 11,
   "id": "d4dc8b56",
   "metadata": {},
   "outputs": [],
   "source": [
    "basics = basics.loc[basics['titleType']== \"movie\"]"
   ]
  },
  {
   "cell_type": "markdown",
   "id": "449943d4",
   "metadata": {},
   "source": [
    "4. Exclude any movie with missing values for genre or runtime"
   ]
  },
  {
   "cell_type": "code",
   "execution_count": 12,
   "id": "bb68d9f3",
   "metadata": {},
   "outputs": [],
   "source": [
    "basics = basics.dropna(subset = ['runtimeMinutes', 'genres'])"
   ]
  },
  {
   "cell_type": "markdown",
   "id": "ad4bf650",
   "metadata": {},
   "source": [
    "5. Include only fictional movies (not from the Documentary genre)\n"
   ]
  },
  {
   "cell_type": "code",
   "execution_count": 13,
   "id": "7dc1f4d8",
   "metadata": {},
   "outputs": [],
   "source": [
    "# Exclude movies that are included in the documentary category.\n",
    "is_documentary = basics['genres'].str.contains('Documentary',case=False)\n",
    "basics = basics[~is_documentary]"
   ]
  },
  {
   "cell_type": "code",
   "execution_count": 14,
   "id": "0d1c7e9a",
   "metadata": {},
   "outputs": [],
   "source": [
    "# save all new dfs\n",
    "basics.to_csv(\"Data/title_basics.csv.gz\",compression='gzip',index=False)\n",
    "akas.to_csv(\"Data/title_akas.csv.gz\",compression='gzip',index=False)"
   ]
  },
  {
   "cell_type": "code",
   "execution_count": 15,
   "id": "baab64a6",
   "metadata": {},
   "outputs": [],
   "source": [
    "rating.to_csv(\"Data/title_rating.csv.gz\",compression='gzip',index=False)"
   ]
  },
  {
   "cell_type": "code",
   "execution_count": 61,
   "id": "2b1815d2",
   "metadata": {},
   "outputs": [
    {
     "name": "stdout",
     "output_type": "stream",
     "text": [
      "<class 'pandas.core.frame.DataFrame'>\n",
      "RangeIndex: 37035964 entries, 0 to 37035963\n",
      "Data columns (total 8 columns):\n",
      " #   Column           Dtype \n",
      "---  ------           ----- \n",
      " 0   titleId          object\n",
      " 1   ordering         int64 \n",
      " 2   title            object\n",
      " 3   region           object\n",
      " 4   language         object\n",
      " 5   types            object\n",
      " 6   attributes       object\n",
      " 7   isOriginalTitle  object\n",
      "dtypes: int64(1), object(7)\n",
      "memory usage: 2.2+ GB\n"
     ]
    }
   ],
   "source": [
    "akas.info()"
   ]
  },
  {
   "cell_type": "markdown",
   "id": "f7d57ff1",
   "metadata": {},
   "source": [
    "## API"
   ]
  },
  {
   "cell_type": "markdown",
   "id": "dc358d90",
   "metadata": {},
   "source": [
    "### Specifications "
   ]
  },
  {
   "cell_type": "code",
   "execution_count": 16,
   "id": "82c1d4b0",
   "metadata": {},
   "outputs": [
    {
     "data": {
      "text/plain": [
       "['tmdb_api_results_2001.json',\n",
       " 'title_basics.csv.gz',\n",
       " 'title_rating.csv.gz',\n",
       " 'results_in_progress_mov.json',\n",
       " 'title_akas.csv.gz']"
      ]
     },
     "execution_count": 16,
     "metadata": {},
     "output_type": "execute_result"
    }
   ],
   "source": [
    "import os, time,json\n",
    "import tmdbsimple as tmdb \n",
    "FOLDER = \"Data/\"\n",
    "os.makedirs(FOLDER, exist_ok=True)\n",
    "os.listdir(FOLDER)"
   ]
  },
  {
   "cell_type": "code",
   "execution_count": 17,
   "id": "a646745e",
   "metadata": {},
   "outputs": [],
   "source": [
    "# Standard Imports\n",
    "import numpy as np\n",
    "import pandas as pd\n",
    "import matplotlib.pyplot as plt\n",
    "import seaborn as sns\n",
    "# Additional Imports\n",
    "import os, json, math, time\n",
    "from tqdm.notebook import tqdm_notebook"
   ]
  },
  {
   "cell_type": "code",
   "execution_count": 18,
   "id": "4185fa6e",
   "metadata": {},
   "outputs": [],
   "source": [
    "def write_json(new_data, filename): \n",
    "    \"\"\"Appends a list of records (new_data) to a json file (filename). \n",
    "    Adapted from: https://www.geeksforgeeks.org/append-to-json-file-using-python/\"\"\"  \n",
    "    \n",
    "    with open(filename,'r+') as file:\n",
    "        # First we load existing data into a dict.\n",
    "        file_data = json.load(file)\n",
    "        ## Choose extend or append\n",
    "        if (type(new_data) == list) & (type(file_data) == list):\n",
    "            file_data.extend(new_data)\n",
    "        else:\n",
    "             file_data.append(new_data)\n",
    "        # Sets file's current position at offset.\n",
    "        file.seek(0)\n",
    "        # convert back to json.\n",
    "        json.dump(file_data, file)"
   ]
  },
  {
   "cell_type": "code",
   "execution_count": 19,
   "id": "df4a7bff",
   "metadata": {},
   "outputs": [
    {
     "data": {
      "text/html": [
       "<div>\n",
       "<style scoped>\n",
       "    .dataframe tbody tr th:only-of-type {\n",
       "        vertical-align: middle;\n",
       "    }\n",
       "\n",
       "    .dataframe tbody tr th {\n",
       "        vertical-align: top;\n",
       "    }\n",
       "\n",
       "    .dataframe thead th {\n",
       "        text-align: right;\n",
       "    }\n",
       "</style>\n",
       "<table border=\"1\" class=\"dataframe\">\n",
       "  <thead>\n",
       "    <tr style=\"text-align: right;\">\n",
       "      <th></th>\n",
       "      <th>tconst</th>\n",
       "      <th>titleType</th>\n",
       "      <th>primaryTitle</th>\n",
       "      <th>originalTitle</th>\n",
       "      <th>isAdult</th>\n",
       "      <th>startYear</th>\n",
       "      <th>endYear</th>\n",
       "      <th>runtimeMinutes</th>\n",
       "      <th>genres</th>\n",
       "    </tr>\n",
       "  </thead>\n",
       "  <tbody>\n",
       "    <tr>\n",
       "      <th>0</th>\n",
       "      <td>tt0000009</td>\n",
       "      <td>movie</td>\n",
       "      <td>Miss Jerry</td>\n",
       "      <td>Miss Jerry</td>\n",
       "      <td>0</td>\n",
       "      <td>True</td>\n",
       "      <td>NaN</td>\n",
       "      <td>45</td>\n",
       "      <td>Romance</td>\n",
       "    </tr>\n",
       "    <tr>\n",
       "      <th>1</th>\n",
       "      <td>tt0000574</td>\n",
       "      <td>movie</td>\n",
       "      <td>The Story of the Kelly Gang</td>\n",
       "      <td>The Story of the Kelly Gang</td>\n",
       "      <td>0</td>\n",
       "      <td>True</td>\n",
       "      <td>NaN</td>\n",
       "      <td>70</td>\n",
       "      <td>Action,Adventure,Biography</td>\n",
       "    </tr>\n",
       "    <tr>\n",
       "      <th>2</th>\n",
       "      <td>tt0000591</td>\n",
       "      <td>movie</td>\n",
       "      <td>The Prodigal Son</td>\n",
       "      <td>L'enfant prodigue</td>\n",
       "      <td>0</td>\n",
       "      <td>True</td>\n",
       "      <td>NaN</td>\n",
       "      <td>90</td>\n",
       "      <td>Drama</td>\n",
       "    </tr>\n",
       "    <tr>\n",
       "      <th>3</th>\n",
       "      <td>tt0000679</td>\n",
       "      <td>movie</td>\n",
       "      <td>The Fairylogue and Radio-Plays</td>\n",
       "      <td>The Fairylogue and Radio-Plays</td>\n",
       "      <td>0</td>\n",
       "      <td>True</td>\n",
       "      <td>NaN</td>\n",
       "      <td>120</td>\n",
       "      <td>Adventure,Fantasy</td>\n",
       "    </tr>\n",
       "    <tr>\n",
       "      <th>4</th>\n",
       "      <td>tt0000941</td>\n",
       "      <td>movie</td>\n",
       "      <td>Locura de amor</td>\n",
       "      <td>Locura de amor</td>\n",
       "      <td>0</td>\n",
       "      <td>True</td>\n",
       "      <td>NaN</td>\n",
       "      <td>45</td>\n",
       "      <td>Drama</td>\n",
       "    </tr>\n",
       "    <tr>\n",
       "      <th>...</th>\n",
       "      <td>...</td>\n",
       "      <td>...</td>\n",
       "      <td>...</td>\n",
       "      <td>...</td>\n",
       "      <td>...</td>\n",
       "      <td>...</td>\n",
       "      <td>...</td>\n",
       "      <td>...</td>\n",
       "      <td>...</td>\n",
       "    </tr>\n",
       "    <tr>\n",
       "      <th>292721</th>\n",
       "      <td>tt9916190</td>\n",
       "      <td>movie</td>\n",
       "      <td>Safeguard</td>\n",
       "      <td>Safeguard</td>\n",
       "      <td>0</td>\n",
       "      <td>True</td>\n",
       "      <td>NaN</td>\n",
       "      <td>95</td>\n",
       "      <td>Action,Adventure,Thriller</td>\n",
       "    </tr>\n",
       "    <tr>\n",
       "      <th>292722</th>\n",
       "      <td>tt9916270</td>\n",
       "      <td>movie</td>\n",
       "      <td>Il talento del calabrone</td>\n",
       "      <td>Il talento del calabrone</td>\n",
       "      <td>0</td>\n",
       "      <td>True</td>\n",
       "      <td>NaN</td>\n",
       "      <td>84</td>\n",
       "      <td>Thriller</td>\n",
       "    </tr>\n",
       "    <tr>\n",
       "      <th>292723</th>\n",
       "      <td>tt9916362</td>\n",
       "      <td>movie</td>\n",
       "      <td>Coven</td>\n",
       "      <td>Akelarre</td>\n",
       "      <td>0</td>\n",
       "      <td>True</td>\n",
       "      <td>NaN</td>\n",
       "      <td>92</td>\n",
       "      <td>Drama,History</td>\n",
       "    </tr>\n",
       "    <tr>\n",
       "      <th>292724</th>\n",
       "      <td>tt9916538</td>\n",
       "      <td>movie</td>\n",
       "      <td>Kuambil Lagi Hatiku</td>\n",
       "      <td>Kuambil Lagi Hatiku</td>\n",
       "      <td>0</td>\n",
       "      <td>True</td>\n",
       "      <td>NaN</td>\n",
       "      <td>123</td>\n",
       "      <td>Drama</td>\n",
       "    </tr>\n",
       "    <tr>\n",
       "      <th>292725</th>\n",
       "      <td>tt9916730</td>\n",
       "      <td>movie</td>\n",
       "      <td>6 Gunn</td>\n",
       "      <td>6 Gunn</td>\n",
       "      <td>0</td>\n",
       "      <td>True</td>\n",
       "      <td>NaN</td>\n",
       "      <td>116</td>\n",
       "      <td>Drama</td>\n",
       "    </tr>\n",
       "  </tbody>\n",
       "</table>\n",
       "<p>292726 rows × 9 columns</p>\n",
       "</div>"
      ],
      "text/plain": [
       "           tconst titleType                    primaryTitle  \\\n",
       "0       tt0000009     movie                      Miss Jerry   \n",
       "1       tt0000574     movie     The Story of the Kelly Gang   \n",
       "2       tt0000591     movie                The Prodigal Son   \n",
       "3       tt0000679     movie  The Fairylogue and Radio-Plays   \n",
       "4       tt0000941     movie                  Locura de amor   \n",
       "...           ...       ...                             ...   \n",
       "292721  tt9916190     movie                       Safeguard   \n",
       "292722  tt9916270     movie        Il talento del calabrone   \n",
       "292723  tt9916362     movie                           Coven   \n",
       "292724  tt9916538     movie             Kuambil Lagi Hatiku   \n",
       "292725  tt9916730     movie                          6 Gunn   \n",
       "\n",
       "                         originalTitle  isAdult  startYear  endYear  \\\n",
       "0                           Miss Jerry        0       True      NaN   \n",
       "1          The Story of the Kelly Gang        0       True      NaN   \n",
       "2                    L'enfant prodigue        0       True      NaN   \n",
       "3       The Fairylogue and Radio-Plays        0       True      NaN   \n",
       "4                       Locura de amor        0       True      NaN   \n",
       "...                                ...      ...        ...      ...   \n",
       "292721                       Safeguard        0       True      NaN   \n",
       "292722        Il talento del calabrone        0       True      NaN   \n",
       "292723                        Akelarre        0       True      NaN   \n",
       "292724             Kuambil Lagi Hatiku        0       True      NaN   \n",
       "292725                          6 Gunn        0       True      NaN   \n",
       "\n",
       "        runtimeMinutes                      genres  \n",
       "0                   45                     Romance  \n",
       "1                   70  Action,Adventure,Biography  \n",
       "2                   90                       Drama  \n",
       "3                  120           Adventure,Fantasy  \n",
       "4                   45                       Drama  \n",
       "...                ...                         ...  \n",
       "292721              95   Action,Adventure,Thriller  \n",
       "292722              84                    Thriller  \n",
       "292723              92               Drama,History  \n",
       "292724             123                       Drama  \n",
       "292725             116                       Drama  \n",
       "\n",
       "[292726 rows x 9 columns]"
      ]
     },
     "execution_count": 19,
     "metadata": {},
     "output_type": "execute_result"
    }
   ],
   "source": [
    "# Load in the dataframe from project part 1 as basics:\n",
    "basics = pd.read_csv('/Users/kass/Documents/GitHub/Project-3/Data/title_basics.csv.gz')\n",
    "basics"
   ]
  },
  {
   "cell_type": "code",
   "execution_count": 20,
   "id": "5565fd59",
   "metadata": {},
   "outputs": [],
   "source": [
    "# we want years 2000 and 2001\n",
    "YEARS_TO_GET = [2000,2001]\n",
    "# a place to hold all the errors\n",
    "errors = [ ]"
   ]
  },
  {
   "cell_type": "code",
   "execution_count": 46,
   "id": "2957b899",
   "metadata": {
    "scrolled": true
   },
   "outputs": [
    {
     "data": {
      "application/vnd.jupyter.widget-view+json": {
       "model_id": "571fb0ee57e04a08a9eb27e17c671133",
       "version_major": 2,
       "version_minor": 0
      },
      "text/plain": [
       "YEARS:   0%|          | 0/2 [00:00<?, ?it/s]"
      ]
     },
     "metadata": {},
     "output_type": "display_data"
    }
   ],
   "source": [
    "for YEAR in tqdm_notebook(YEARS_TO_GET, desc='YEARS', position=0):\n",
    "#Defining the JSON file to store results for year\n",
    "    JSON_FILE = f'{FOLDER}tmdb_api_results_{YEAR}.json'"
   ]
  },
  {
   "cell_type": "code",
   "execution_count": 47,
   "id": "2d1cf8aa",
   "metadata": {},
   "outputs": [],
   "source": [
    "# Check if file exists\n",
    "file_exists = os.path.isfile(JSON_FILE)\n",
    "# If it does not exist: create it\n",
    "if file_exists == False:\n",
    "# save an empty dict with just \"imdb_id\" to the new json file.\n",
    "    with open(JSON_FILE,'w') as f:\n",
    "        json.dump([{'imdb_id':0}],f)"
   ]
  },
  {
   "cell_type": "code",
   "execution_count": 48,
   "id": "f6edeba1",
   "metadata": {},
   "outputs": [],
   "source": [
    "#Saving new year as the current df\n",
    "df = basics.loc[ basics['startYear']==YEAR].copy()\n",
    "# saving movie ids to list\n",
    "movie_ids = df['tconst'].copy()"
   ]
  },
  {
   "cell_type": "code",
   "execution_count": 49,
   "id": "4c0366f8",
   "metadata": {},
   "outputs": [
    {
     "name": "stdout",
     "output_type": "stream",
     "text": [
      "<class 'pandas.core.frame.DataFrame'>\n",
      "Int64Index: 0 entries\n",
      "Data columns (total 9 columns):\n",
      " #   Column          Non-Null Count  Dtype  \n",
      "---  ------          --------------  -----  \n",
      " 0   tconst          0 non-null      object \n",
      " 1   titleType       0 non-null      object \n",
      " 2   primaryTitle    0 non-null      object \n",
      " 3   originalTitle   0 non-null      object \n",
      " 4   isAdult         0 non-null      int64  \n",
      " 5   startYear       0 non-null      bool   \n",
      " 6   endYear         0 non-null      float64\n",
      " 7   runtimeMinutes  0 non-null      int64  \n",
      " 8   genres          0 non-null      object \n",
      "dtypes: bool(1), float64(1), int64(2), object(5)\n",
      "memory usage: 0.0+ bytes\n"
     ]
    }
   ],
   "source": [
    "df.info()"
   ]
  },
  {
   "cell_type": "code",
   "execution_count": 58,
   "id": "096a57b1",
   "metadata": {},
   "outputs": [
    {
     "data": {
      "application/vnd.jupyter.widget-view+json": {
       "model_id": "54d3d9a7891d4af19ff56258ac587a60",
       "version_major": 2,
       "version_minor": 0
      },
      "text/plain": [
       "Movies from 2001: 0it [00:00, ?it/s]"
      ]
     },
     "metadata": {},
     "output_type": "display_data"
    }
   ],
   "source": [
    "# Load existing data from json into a dataframe called \"previous_df\"\n",
    "previous_df = pd.read_json(JSON_FILE)\n",
    "\n",
    "\n",
    "# filter out any ids that are already in the JSON_FILE\n",
    "movie_ids_to_get = movie_ids[~movie_ids.isin(previous_df['imdb_id'])]\n",
    "\n",
    "    #Get index and movie id from list\n",
    "    # INNER Loop\n",
    "for movie_id in tqdm_notebook(movie_ids_to_get,\n",
    "                                  desc=f'Movies from {YEAR}',\n",
    "                                  position=1,\n",
    "                                  leave=True):\n",
    "        try:\n",
    "            # Retrieve then data for the movie id\n",
    "            temp = get_movie_with_rating(movie_id)  \n",
    "            # Append/extend results to existing file using a pre-made function\n",
    "            write_json(temp,JSON_FILE)\n",
    "            # Short 20 ms sleep to prevent overwhelming server\n",
    "            time.sleep(0.02)\n",
    "            \n",
    "        except Exception as e:\n",
    "            errors.append([movie_id, e])"
   ]
  },
  {
   "cell_type": "code",
   "execution_count": null,
   "id": "95a8fc6f",
   "metadata": {},
   "outputs": [],
   "source": [
    "final_year_df = pd.read_json(JSON_FILE)\n",
    "final_year_df.to_csv(f\"{FOLDER}final_tmdb_data_{YEAR}.csv.gz\", compression=\"gzip\", index=False)"
   ]
  },
  {
   "cell_type": "code",
   "execution_count": null,
   "id": "bc0c6e07",
   "metadata": {},
   "outputs": [],
   "source": [
    "print(f\"- Total errors: {len(errors)}\")"
   ]
  },
  {
   "cell_type": "markdown",
   "id": "e85683cc",
   "metadata": {},
   "source": [
    "### Exploratory analysis"
   ]
  },
  {
   "cell_type": "code",
   "execution_count": null,
   "id": "1bd423f2",
   "metadata": {},
   "outputs": [],
   "source": []
  },
  {
   "cell_type": "code",
   "execution_count": null,
   "id": "3324938a",
   "metadata": {},
   "outputs": [],
   "source": []
  },
  {
   "cell_type": "code",
   "execution_count": null,
   "id": "d4134c7a",
   "metadata": {},
   "outputs": [],
   "source": []
  },
  {
   "cell_type": "code",
   "execution_count": 23,
   "id": "608808f2",
   "metadata": {},
   "outputs": [
    {
     "name": "stdout",
     "output_type": "stream",
     "text": [
      "Requirement already satisfied: tmdbsimple in /usr/local/Caskroom/miniforge/base/envs/dojo-env/lib/python3.9/site-packages (2.9.1)\n",
      "Requirement already satisfied: requests in /usr/local/Caskroom/miniforge/base/envs/dojo-env/lib/python3.9/site-packages (from tmdbsimple) (2.31.0)\n",
      "Requirement already satisfied: charset-normalizer<4,>=2 in /usr/local/Caskroom/miniforge/base/envs/dojo-env/lib/python3.9/site-packages (from requests->tmdbsimple) (2.0.4)\n",
      "Requirement already satisfied: urllib3<3,>=1.21.1 in /usr/local/Caskroom/miniforge/base/envs/dojo-env/lib/python3.9/site-packages (from requests->tmdbsimple) (1.26.13)\n",
      "Requirement already satisfied: certifi>=2017.4.17 in /usr/local/Caskroom/miniforge/base/envs/dojo-env/lib/python3.9/site-packages (from requests->tmdbsimple) (2022.9.24)\n",
      "Requirement already satisfied: idna<4,>=2.5 in /usr/local/Caskroom/miniforge/base/envs/dojo-env/lib/python3.9/site-packages (from requests->tmdbsimple) (3.4)\n"
     ]
    }
   ],
   "source": [
    "!pip install tmdbsimple\n",
    "import tmdbsimple as tmdb\n",
    "tmdb.API_KEY =  login['api-key']"
   ]
  },
  {
   "cell_type": "code",
   "execution_count": 22,
   "id": "415a8dab",
   "metadata": {},
   "outputs": [
    {
     "data": {
      "text/plain": [
       "dict_keys(['api-key'])"
      ]
     },
     "execution_count": 22,
     "metadata": {},
     "output_type": "execute_result"
    }
   ],
   "source": [
    "# Load API Credentials\n",
    "with open('/Users/kass/secret/mov_API.json') as f:   #use your path here!\n",
    "    login = json.load(f)\n",
    "## Display the keys of the loaded dict\n",
    "login.keys()"
   ]
  },
  {
   "cell_type": "code",
   "execution_count": 24,
   "id": "b237396d",
   "metadata": {},
   "outputs": [
    {
     "data": {
      "text/plain": [
       "'Data/results_in_progress_mov.json'"
      ]
     },
     "execution_count": 24,
     "metadata": {},
     "output_type": "execute_result"
    }
   ],
   "source": [
    "# Specifying JSON_FILE filename (can include a folder)\n",
    "# include the search terms in the filename\n",
    "JSON_FILE = 'Data/results_in_progress_mov.json'\n",
    "JSON_FILE"
   ]
  },
  {
   "cell_type": "code",
   "execution_count": 25,
   "id": "791d4a40",
   "metadata": {},
   "outputs": [
    {
     "name": "stdout",
     "output_type": "stream",
     "text": [
      "[i] Data/results_in_progress_mov.json already exists.\n"
     ]
    }
   ],
   "source": [
    "## Check if JSON_FILE exists\n",
    "file_exists = os.path.isfile(JSON_FILE)\n",
    "## If it does not exist: \n",
    "if file_exists == False:\n",
    "    \n",
    "    ## CREATE ANY NEEDED FOLDERS\n",
    "    # Get the Folder Name only\n",
    "    folder = os.path.dirname(JSON_FILE)\n",
    "    ## If JSON_FILE included a folder:\n",
    "    if len(folder)>0:\n",
    "        # create the folder\n",
    "        os.makedirs(folder,exist_ok=True)\n",
    "        \n",
    "        \n",
    "    ## INFORM USER AND SAVE EMPTY LIST\n",
    "    print(f'[i] {JSON_FILE} not found. Saving empty list to file.')\n",
    "    \n",
    "    \n",
    "    # save an empty list\n",
    "    with open(JSON_FILE,'w') as f:\n",
    "        json.dump([],f)  \n",
    "# If it exists, inform user\n",
    "else:\n",
    "    print(f\"[i] {JSON_FILE} already exists.\")"
   ]
  },
  {
   "cell_type": "code",
   "execution_count": 26,
   "id": "783794ea",
   "metadata": {},
   "outputs": [
    {
     "name": "stdout",
     "output_type": "stream",
     "text": [
      "- 0 previous results found.\n"
     ]
    }
   ],
   "source": [
    "## Load previous results and use len of results for offset\n",
    "with open(JSON_FILE,'r') as f:\n",
    "    previous_results = json.load(f)\n",
    "    \n",
    "## set offset based on previous results\n",
    "n_results = len(previous_results)\n",
    "print(f'- {n_results} previous results found.')"
   ]
  },
  {
   "cell_type": "code",
   "execution_count": 30,
   "id": "7d0d7676",
   "metadata": {
    "scrolled": true
   },
   "outputs": [
    {
     "ename": "NameError",
     "evalue": "name 'releases' is not defined",
     "output_type": "error",
     "traceback": [
      "\u001b[0;31m---------------------------------------------------------------------------\u001b[0m",
      "\u001b[0;31mNameError\u001b[0m                                 Traceback (most recent call last)",
      "Cell \u001b[0;32mIn [30], line 10\u001b[0m\n\u001b[1;32m      8\u001b[0m     releases \u001b[38;5;241m=\u001b[39m movie\u001b[38;5;241m.\u001b[39mreleases()\n\u001b[1;32m      9\u001b[0m \u001b[38;5;66;03m# Loop through countries in releases\u001b[39;00m\n\u001b[0;32m---> 10\u001b[0m \u001b[38;5;28;01mfor\u001b[39;00m c \u001b[38;5;129;01min\u001b[39;00m \u001b[43mreleases\u001b[49m[\u001b[38;5;124m'\u001b[39m\u001b[38;5;124mcountries\u001b[39m\u001b[38;5;124m'\u001b[39m]:\n\u001b[1;32m     11\u001b[0m     \u001b[38;5;66;03m# if the country abbreviation==US\u001b[39;00m\n\u001b[1;32m     12\u001b[0m     \u001b[38;5;28;01mif\u001b[39;00m c[\u001b[38;5;124m'\u001b[39m\u001b[38;5;124miso_3166_1\u001b[39m\u001b[38;5;124m'\u001b[39m ] \u001b[38;5;241m==\u001b[39m\u001b[38;5;124m'\u001b[39m\u001b[38;5;124mUS\u001b[39m\u001b[38;5;124m'\u001b[39m:\n\u001b[1;32m     13\u001b[0m         \u001b[38;5;66;03m## save a \"certification\" key in the info dict with the certification\u001b[39;00m\n\u001b[1;32m     14\u001b[0m        info[\u001b[38;5;124m'\u001b[39m\u001b[38;5;124mcertification\u001b[39m\u001b[38;5;124m'\u001b[39m] \u001b[38;5;241m=\u001b[39m c[\u001b[38;5;124m'\u001b[39m\u001b[38;5;124mcertification\u001b[39m\u001b[38;5;124m'\u001b[39m]\n",
      "\u001b[0;31mNameError\u001b[0m: name 'releases' is not defined"
     ]
    }
   ],
   "source": [
    "def get_movie_with_rating(movie_id):\n",
    "\n",
    "# Get the movie object for the current id\n",
    "    movie = tmdb.Movies(movie_id)\n",
    "# save the .info .releases dictionaries\n",
    "    info = movie.info()\n",
    "\n",
    "    releases = movie.releases()\n",
    "# Loop through countries in releases\n",
    "for c in releases['countries']:\n",
    "    # if the country abbreviation==US\n",
    "    if c['iso_3166_1' ] =='US':\n",
    "        ## save a \"certification\" key in the info dict with the certification\n",
    "       info['certification'] = c['certification']\n",
    "\n",
    "return info"
   ]
  },
  {
   "cell_type": "code",
   "execution_count": 32,
   "id": "1951bc58",
   "metadata": {},
   "outputs": [
    {
     "data": {
      "text/html": [
       "<div>\n",
       "<style scoped>\n",
       "    .dataframe tbody tr th:only-of-type {\n",
       "        vertical-align: middle;\n",
       "    }\n",
       "\n",
       "    .dataframe tbody tr th {\n",
       "        vertical-align: top;\n",
       "    }\n",
       "\n",
       "    .dataframe thead th {\n",
       "        text-align: right;\n",
       "    }\n",
       "</style>\n",
       "<table border=\"1\" class=\"dataframe\">\n",
       "  <thead>\n",
       "    <tr style=\"text-align: right;\">\n",
       "      <th></th>\n",
       "      <th>0</th>\n",
       "    </tr>\n",
       "  </thead>\n",
       "  <tbody>\n",
       "    <tr>\n",
       "      <th>0</th>\n",
       "      <td>None</td>\n",
       "    </tr>\n",
       "    <tr>\n",
       "      <th>1</th>\n",
       "      <td>None</td>\n",
       "    </tr>\n",
       "    <tr>\n",
       "      <th>2</th>\n",
       "      <td>None</td>\n",
       "    </tr>\n",
       "  </tbody>\n",
       "</table>\n",
       "</div>"
      ],
      "text/plain": [
       "      0\n",
       "0  None\n",
       "1  None\n",
       "2  None"
      ]
     },
     "execution_count": 32,
     "metadata": {},
     "output_type": "execute_result"
    }
   ],
   "source": [
    "## testing our function by looping through a list of ids\n",
    "import pandas as pd\n",
    "test_ids = [\"tt0848228\", \"tt0115937\",\"tt0848228\",\"tt0332280\"]\n",
    "results = []\n",
    "for movie_id in test_ids:\n",
    "    \n",
    "    try:\n",
    "        movie_info = get_movie_with_rating(movie_id)\n",
    "        results.append(movie_info)\n",
    "        \n",
    "    except: \n",
    "        pass\n",
    "    \n",
    "pd.DataFrame(results)"
   ]
  },
  {
   "cell_type": "code",
   "execution_count": null,
   "id": "c0981960",
   "metadata": {},
   "outputs": [],
   "source": []
  }
 ],
 "metadata": {
  "kernelspec": {
   "display_name": "Python (dojo-env)",
   "language": "python",
   "name": "dojo-env"
  },
  "language_info": {
   "codemirror_mode": {
    "name": "ipython",
    "version": 3
   },
   "file_extension": ".py",
   "mimetype": "text/x-python",
   "name": "python",
   "nbconvert_exporter": "python",
   "pygments_lexer": "ipython3",
   "version": "3.9.15"
  },
  "toc": {
   "base_numbering": "",
   "nav_menu": {},
   "number_sections": false,
   "sideBar": true,
   "skip_h1_title": false,
   "title_cell": "Table of Contents",
   "title_sidebar": "Contents",
   "toc_cell": false,
   "toc_position": {},
   "toc_section_display": true,
   "toc_window_display": false
  }
 },
 "nbformat": 4,
 "nbformat_minor": 5
}
