{
 "cells": [
  {
   "cell_type": "code",
   "execution_count": 85,
   "id": "79685bfe",
   "metadata": {},
   "outputs": [],
   "source": [
    "#import libraries\n",
    "import pandas as pd\n",
    "import numpy as np"
   ]
  },
  {
   "cell_type": "code",
   "execution_count": 86,
   "id": "9fb24917",
   "metadata": {},
   "outputs": [
    {
     "name": "stdout",
     "output_type": "stream",
     "text": [
      "<class 'pandas.core.frame.DataFrame'>\n",
      "RangeIndex: 10100795 entries, 0 to 10100794\n",
      "Data columns (total 9 columns):\n",
      " #   Column          Dtype \n",
      "---  ------          ----- \n",
      " 0   tconst          object\n",
      " 1   titleType       object\n",
      " 2   primaryTitle    object\n",
      " 3   originalTitle   object\n",
      " 4   isAdult         object\n",
      " 5   startYear       object\n",
      " 6   endYear         object\n",
      " 7   runtimeMinutes  object\n",
      " 8   genres          object\n",
      "dtypes: object(9)\n",
      "memory usage: 693.6+ MB\n"
     ]
    }
   ],
   "source": [
    "# import basics dataset and convert to cvs\n",
    "basics_url=\"https://datasets.imdbws.com/title.basics.tsv.gz\"\n",
    "basics = pd.read_csv(basics_url, sep='\\t', low_memory=False)\n",
    "basics.info()"
   ]
  },
  {
   "cell_type": "code",
   "execution_count": 87,
   "id": "9db20c79",
   "metadata": {},
   "outputs": [
    {
     "name": "stdout",
     "output_type": "stream",
     "text": [
      "<class 'pandas.core.frame.DataFrame'>\n",
      "RangeIndex: 36951101 entries, 0 to 36951100\n",
      "Data columns (total 8 columns):\n",
      " #   Column           Dtype \n",
      "---  ------           ----- \n",
      " 0   titleId          object\n",
      " 1   ordering         int64 \n",
      " 2   title            object\n",
      " 3   region           object\n",
      " 4   language         object\n",
      " 5   types            object\n",
      " 6   attributes       object\n",
      " 7   isOriginalTitle  object\n",
      "dtypes: int64(1), object(7)\n",
      "memory usage: 2.2+ GB\n"
     ]
    }
   ],
   "source": [
    "# import akas dataset\n",
    "akas_url = \"/Users/kass/Downloads/title-akas-us-only.csv\"\n",
    "akas.info()"
   ]
  },
  {
   "cell_type": "code",
   "execution_count": 88,
   "id": "4b9a844c",
   "metadata": {},
   "outputs": [
    {
     "name": "stdout",
     "output_type": "stream",
     "text": [
      "<class 'pandas.core.frame.DataFrame'>\n",
      "RangeIndex: 1340671 entries, 0 to 1340670\n",
      "Data columns (total 3 columns):\n",
      " #   Column         Non-Null Count    Dtype  \n",
      "---  ------         --------------    -----  \n",
      " 0   tconst         1340671 non-null  object \n",
      " 1   averageRating  1340671 non-null  float64\n",
      " 2   numVotes       1340671 non-null  int64  \n",
      "dtypes: float64(1), int64(1), object(1)\n",
      "memory usage: 30.7+ MB\n"
     ]
    }
   ],
   "source": [
    "# import rating dataset and convert to cvs\n",
    "rating_url = \"https://datasets.imdbws.com/title.ratings.tsv.gz\"\n",
    "rating = pd.read_csv(rating_url, sep='\\t', low_memory=False)\n",
    "rating.info()"
   ]
  },
  {
   "cell_type": "code",
   "execution_count": 89,
   "id": "66c45964",
   "metadata": {},
   "outputs": [],
   "source": [
    "#change all \\\\N to np.nan\n",
    "basics = basics.replace({'\\\\N':np.nan})\n",
    "akas = akas.replace({'\\\\N':np.nan})\n",
    "rating = rating.replace({'\\\\N':np.nan})"
   ]
  },
  {
   "cell_type": "markdown",
   "id": "8a8325f4",
   "metadata": {},
   "source": [
    "1. Include only movies that were released in the United States. This was already done when we imported our data "
   ]
  },
  {
   "cell_type": "code",
   "execution_count": 90,
   "id": "07e845cc",
   "metadata": {},
   "outputs": [
    {
     "data": {
      "text/plain": [
       "0            True\n",
       "1            True\n",
       "2            True\n",
       "3            True\n",
       "4            True\n",
       "            ...  \n",
       "10100790     True\n",
       "10100791     True\n",
       "10100792     True\n",
       "10100793     True\n",
       "10100794    False\n",
       "Name: tconst, Length: 10100795, dtype: bool"
      ]
     },
     "execution_count": 90,
     "metadata": {},
     "output_type": "execute_result"
    }
   ],
   "source": [
    "# Filter the basics table down to only include the US by using the filter akas dataframe\n",
    "keepers =basics['tconst'].isin(akas['titleId'])\n",
    "keepers"
   ]
  },
  {
   "cell_type": "code",
   "execution_count": 91,
   "id": "75e40499",
   "metadata": {},
   "outputs": [
    {
     "data": {
      "text/html": [
       "<div>\n",
       "<style scoped>\n",
       "    .dataframe tbody tr th:only-of-type {\n",
       "        vertical-align: middle;\n",
       "    }\n",
       "\n",
       "    .dataframe tbody tr th {\n",
       "        vertical-align: top;\n",
       "    }\n",
       "\n",
       "    .dataframe thead th {\n",
       "        text-align: right;\n",
       "    }\n",
       "</style>\n",
       "<table border=\"1\" class=\"dataframe\">\n",
       "  <thead>\n",
       "    <tr style=\"text-align: right;\">\n",
       "      <th></th>\n",
       "      <th>tconst</th>\n",
       "      <th>titleType</th>\n",
       "      <th>primaryTitle</th>\n",
       "      <th>originalTitle</th>\n",
       "      <th>isAdult</th>\n",
       "      <th>startYear</th>\n",
       "      <th>endYear</th>\n",
       "      <th>runtimeMinutes</th>\n",
       "      <th>genres</th>\n",
       "    </tr>\n",
       "  </thead>\n",
       "  <tbody>\n",
       "    <tr>\n",
       "      <th>0</th>\n",
       "      <td>tt0000001</td>\n",
       "      <td>short</td>\n",
       "      <td>Carmencita</td>\n",
       "      <td>Carmencita</td>\n",
       "      <td>0</td>\n",
       "      <td>1894</td>\n",
       "      <td>NaN</td>\n",
       "      <td>1</td>\n",
       "      <td>Documentary,Short</td>\n",
       "    </tr>\n",
       "    <tr>\n",
       "      <th>1</th>\n",
       "      <td>tt0000002</td>\n",
       "      <td>short</td>\n",
       "      <td>Le clown et ses chiens</td>\n",
       "      <td>Le clown et ses chiens</td>\n",
       "      <td>0</td>\n",
       "      <td>1892</td>\n",
       "      <td>NaN</td>\n",
       "      <td>5</td>\n",
       "      <td>Animation,Short</td>\n",
       "    </tr>\n",
       "    <tr>\n",
       "      <th>2</th>\n",
       "      <td>tt0000003</td>\n",
       "      <td>short</td>\n",
       "      <td>Pauvre Pierrot</td>\n",
       "      <td>Pauvre Pierrot</td>\n",
       "      <td>0</td>\n",
       "      <td>1892</td>\n",
       "      <td>NaN</td>\n",
       "      <td>4</td>\n",
       "      <td>Animation,Comedy,Romance</td>\n",
       "    </tr>\n",
       "    <tr>\n",
       "      <th>3</th>\n",
       "      <td>tt0000004</td>\n",
       "      <td>short</td>\n",
       "      <td>Un bon bock</td>\n",
       "      <td>Un bon bock</td>\n",
       "      <td>0</td>\n",
       "      <td>1892</td>\n",
       "      <td>NaN</td>\n",
       "      <td>12</td>\n",
       "      <td>Animation,Short</td>\n",
       "    </tr>\n",
       "    <tr>\n",
       "      <th>4</th>\n",
       "      <td>tt0000005</td>\n",
       "      <td>short</td>\n",
       "      <td>Blacksmith Scene</td>\n",
       "      <td>Blacksmith Scene</td>\n",
       "      <td>0</td>\n",
       "      <td>1893</td>\n",
       "      <td>NaN</td>\n",
       "      <td>1</td>\n",
       "      <td>Comedy,Short</td>\n",
       "    </tr>\n",
       "    <tr>\n",
       "      <th>...</th>\n",
       "      <td>...</td>\n",
       "      <td>...</td>\n",
       "      <td>...</td>\n",
       "      <td>...</td>\n",
       "      <td>...</td>\n",
       "      <td>...</td>\n",
       "      <td>...</td>\n",
       "      <td>...</td>\n",
       "      <td>...</td>\n",
       "    </tr>\n",
       "    <tr>\n",
       "      <th>10100789</th>\n",
       "      <td>tt9916846</td>\n",
       "      <td>tvEpisode</td>\n",
       "      <td>Episode #3.18</td>\n",
       "      <td>Episode #3.18</td>\n",
       "      <td>0</td>\n",
       "      <td>2009</td>\n",
       "      <td>NaN</td>\n",
       "      <td>NaN</td>\n",
       "      <td>Action,Drama,Family</td>\n",
       "    </tr>\n",
       "    <tr>\n",
       "      <th>10100790</th>\n",
       "      <td>tt9916848</td>\n",
       "      <td>tvEpisode</td>\n",
       "      <td>Episode #3.17</td>\n",
       "      <td>Episode #3.17</td>\n",
       "      <td>0</td>\n",
       "      <td>2009</td>\n",
       "      <td>NaN</td>\n",
       "      <td>NaN</td>\n",
       "      <td>Action,Drama,Family</td>\n",
       "    </tr>\n",
       "    <tr>\n",
       "      <th>10100791</th>\n",
       "      <td>tt9916850</td>\n",
       "      <td>tvEpisode</td>\n",
       "      <td>Episode #3.19</td>\n",
       "      <td>Episode #3.19</td>\n",
       "      <td>0</td>\n",
       "      <td>2010</td>\n",
       "      <td>NaN</td>\n",
       "      <td>NaN</td>\n",
       "      <td>Action,Drama,Family</td>\n",
       "    </tr>\n",
       "    <tr>\n",
       "      <th>10100792</th>\n",
       "      <td>tt9916852</td>\n",
       "      <td>tvEpisode</td>\n",
       "      <td>Episode #3.20</td>\n",
       "      <td>Episode #3.20</td>\n",
       "      <td>0</td>\n",
       "      <td>2010</td>\n",
       "      <td>NaN</td>\n",
       "      <td>NaN</td>\n",
       "      <td>Action,Drama,Family</td>\n",
       "    </tr>\n",
       "    <tr>\n",
       "      <th>10100793</th>\n",
       "      <td>tt9916856</td>\n",
       "      <td>short</td>\n",
       "      <td>The Wind</td>\n",
       "      <td>The Wind</td>\n",
       "      <td>0</td>\n",
       "      <td>2015</td>\n",
       "      <td>NaN</td>\n",
       "      <td>27</td>\n",
       "      <td>Short</td>\n",
       "    </tr>\n",
       "  </tbody>\n",
       "</table>\n",
       "<p>7235035 rows × 9 columns</p>\n",
       "</div>"
      ],
      "text/plain": [
       "             tconst  titleType            primaryTitle  \\\n",
       "0         tt0000001      short              Carmencita   \n",
       "1         tt0000002      short  Le clown et ses chiens   \n",
       "2         tt0000003      short          Pauvre Pierrot   \n",
       "3         tt0000004      short             Un bon bock   \n",
       "4         tt0000005      short        Blacksmith Scene   \n",
       "...             ...        ...                     ...   \n",
       "10100789  tt9916846  tvEpisode           Episode #3.18   \n",
       "10100790  tt9916848  tvEpisode           Episode #3.17   \n",
       "10100791  tt9916850  tvEpisode           Episode #3.19   \n",
       "10100792  tt9916852  tvEpisode           Episode #3.20   \n",
       "10100793  tt9916856      short                The Wind   \n",
       "\n",
       "                   originalTitle isAdult startYear endYear runtimeMinutes  \\\n",
       "0                     Carmencita       0      1894     NaN              1   \n",
       "1         Le clown et ses chiens       0      1892     NaN              5   \n",
       "2                 Pauvre Pierrot       0      1892     NaN              4   \n",
       "3                    Un bon bock       0      1892     NaN             12   \n",
       "4               Blacksmith Scene       0      1893     NaN              1   \n",
       "...                          ...     ...       ...     ...            ...   \n",
       "10100789           Episode #3.18       0      2009     NaN            NaN   \n",
       "10100790           Episode #3.17       0      2009     NaN            NaN   \n",
       "10100791           Episode #3.19       0      2010     NaN            NaN   \n",
       "10100792           Episode #3.20       0      2010     NaN            NaN   \n",
       "10100793                The Wind       0      2015     NaN             27   \n",
       "\n",
       "                            genres  \n",
       "0                Documentary,Short  \n",
       "1                  Animation,Short  \n",
       "2         Animation,Comedy,Romance  \n",
       "3                  Animation,Short  \n",
       "4                     Comedy,Short  \n",
       "...                            ...  \n",
       "10100789       Action,Drama,Family  \n",
       "10100790       Action,Drama,Family  \n",
       "10100791       Action,Drama,Family  \n",
       "10100792       Action,Drama,Family  \n",
       "10100793                     Short  \n",
       "\n",
       "[7235035 rows x 9 columns]"
      ]
     },
     "execution_count": 91,
     "metadata": {},
     "output_type": "execute_result"
    }
   ],
   "source": [
    "basics = basics[keepers]\n",
    "basics"
   ]
  },
  {
   "cell_type": "markdown",
   "id": "49d406ca",
   "metadata": {},
   "source": [
    "2. Include only movies that were released 2000 - 2021 (include 2000 and 2021)"
   ]
  },
  {
   "cell_type": "code",
   "execution_count": 92,
   "id": "c80160a6",
   "metadata": {},
   "outputs": [],
   "source": [
    "# coerce all to numeric to be able to filter out the years by numbers\n",
    "basics['startYear']= pd.to_numeric(basics['startYear'], errors= 'coerce')"
   ]
  },
  {
   "cell_type": "code",
   "execution_count": 93,
   "id": "20ad9b3d",
   "metadata": {},
   "outputs": [],
   "source": [
    "# keep anything greater than or equal to 2000\n",
    "basics['startYear'] = basics['startYear'] >= 2000"
   ]
  },
  {
   "cell_type": "code",
   "execution_count": 94,
   "id": "13ef6c1d",
   "metadata": {},
   "outputs": [],
   "source": [
    "# Keep anything less than or equal to 2021\n",
    "basics['startYear'] = basics['startYear'] <= 2021"
   ]
  },
  {
   "cell_type": "markdown",
   "id": "6638a966",
   "metadata": {},
   "source": [
    "3. Include only full-length movies (titleType = \"movie\").\n"
   ]
  },
  {
   "cell_type": "code",
   "execution_count": 95,
   "id": "d4dc8b56",
   "metadata": {},
   "outputs": [],
   "source": [
    "basics = basics.loc[basics['titleType']== \"movie\"]"
   ]
  },
  {
   "cell_type": "markdown",
   "id": "449943d4",
   "metadata": {},
   "source": [
    "4. Exclude any movie with missing values for genre or runtime"
   ]
  },
  {
   "cell_type": "code",
   "execution_count": 96,
   "id": "bb68d9f3",
   "metadata": {},
   "outputs": [],
   "source": [
    "basics = basics.dropna(subset = ['runtimeMinutes', 'genres'])"
   ]
  },
  {
   "cell_type": "markdown",
   "id": "ad4bf650",
   "metadata": {},
   "source": [
    "5. Include only fictional movies (not from the Documentary genre)\n"
   ]
  },
  {
   "cell_type": "code",
   "execution_count": 97,
   "id": "7dc1f4d8",
   "metadata": {},
   "outputs": [],
   "source": [
    "# Exclude movies that are included in the documentary category.\n",
    "is_documentary = basics['genres'].str.contains('Documentary',case=False)\n",
    "basics = basics[~is_documentary]"
   ]
  },
  {
   "cell_type": "code",
   "execution_count": 98,
   "id": "0d1c7e9a",
   "metadata": {},
   "outputs": [],
   "source": [
    "# save all new dfs\n",
    "basics.to_csv(\"Data/title_basics.csv.gz\",compression='gzip',index=False)\n",
    "akas.to_csv(\"Data/title_akas.csv.gz\",compression='gzip',index=False)"
   ]
  },
  {
   "cell_type": "code",
   "execution_count": 99,
   "id": "baab64a6",
   "metadata": {},
   "outputs": [],
   "source": [
    "rating.to_csv(\"Data/title_rating.csv.gz\",compression='gzip',index=False)"
   ]
  },
  {
   "cell_type": "markdown",
   "id": "9c0a5489",
   "metadata": {},
   "source": [
    "#### API with revenue "
   ]
  },
  {
   "cell_type": "code",
   "execution_count": 2,
   "id": "68488cc8",
   "metadata": {},
   "outputs": [],
   "source": [
    "# Standard Imports\n",
    "import numpy as np\n",
    "import pandas as pd\n",
    "import matplotlib.pyplot as plt\n",
    "import seaborn as sns\n",
    "# Additional Imports\n",
    "import os, json, math, time\n",
    "from yelpapi import YelpAPI\n",
    "from tqdm.notebook import tqdm_notebook"
   ]
  },
  {
   "cell_type": "code",
   "execution_count": null,
   "id": "b9aa5301",
   "metadata": {},
   "outputs": [],
   "source": [
    "# Load API Credentials\n",
    "with open('/Users/kass/secret/mov_API.json') as f:   #use your path here!\n",
    "    login = json.load(f)\n",
    "# Instantiate YelpAPI Variable\n",
    "M_api = YelpAPI(login['api-key'], timeout_s=5.0)"
   ]
  }
 ],
 "metadata": {
  "kernelspec": {
   "display_name": "Python (dojo-env)",
   "language": "python",
   "name": "dojo-env"
  },
  "language_info": {
   "codemirror_mode": {
    "name": "ipython",
    "version": 3
   },
   "file_extension": ".py",
   "mimetype": "text/x-python",
   "name": "python",
   "nbconvert_exporter": "python",
   "pygments_lexer": "ipython3",
   "version": "3.9.15"
  },
  "toc": {
   "base_numbering": 1,
   "nav_menu": {},
   "number_sections": true,
   "sideBar": true,
   "skip_h1_title": false,
   "title_cell": "Table of Contents",
   "title_sidebar": "Contents",
   "toc_cell": false,
   "toc_position": {},
   "toc_section_display": true,
   "toc_window_display": false
  }
 },
 "nbformat": 4,
 "nbformat_minor": 5
}
